{
 "cells": [
  {
   "cell_type": "code",
   "execution_count": 5,
   "id": "7ebd9ab2",
   "metadata": {},
   "outputs": [],
   "source": [
    "#Varsha Salil\n",
    "#11608680"
   ]
  },
  {
   "cell_type": "code",
   "execution_count": 4,
   "id": "b9133bdb",
   "metadata": {},
   "outputs": [
    {
     "name": "stdout",
     "output_type": "stream",
     "text": [
      "Training Labels size: 101\n",
      "Testing Labels size: 102\n",
      "Training Features size: 101\n",
      "Testing Features size: 102\n",
      "Predicted output:\n",
      "[0 0 0 0 0 0 1 1 0 1 0 1 0 0 1 0 0 0 0 0 0 0 0 0 0 1 1 1 0 1 0 0 0 1 0 0 0\n",
      " 0 0 0 0 0 0 1 0 0 0 0 0 0 1 0 1 0 0 0 0 0 1 1 0 0 0 0 0 0 0 1 1 1 0 0 0 0\n",
      " 0 0 1 0 0 0 0 0 1 0 0 0 0 0 0 0 0 1 0 0 0 1 0 1 0 0 0 0]\n",
      "Confusion matrix:\n",
      "[[69  0]\n",
      " [10 23]]\n",
      "Accuracy of the Gaussian Naive Bayes model constructed: 90.19607843137256\n"
     ]
    }
   ],
   "source": [
    "import pandas as pd\n",
    "\n",
    "from sklearn import metrics\n",
    "\n",
    "from sklearn.metrics import confusion_matrix\n",
    "\n",
    "import numpy as np\n",
    "\n",
    "from sklearn.naive_bayes  import GaussianNB  \n",
    "\n",
    "from sklearn.model_selection  import train_test_split \n",
    "# Enter the system location of the csv file containing the dataset below; Replace the current location\n",
    "wheat_data=pd.read_csv('/Users/varshasalil/Desktop/wheat (1).csv')\n",
    "\n",
    "wheat_data=wheat_data.dropna()\n",
    "\n",
    "\n",
    "def bayes(wheat_type):\n",
    "    if wheat_type == \"kama\":\n",
    "        return 1\n",
    "    else:\n",
    "        return 0\n",
    "    \n",
    "wheat_data['label'] = wheat_data['wheat_type'].apply(bayes)\n",
    "\n",
    "  \n",
    "inp_train, inp_test, out_train, out_test = train_test_split(\n",
    "    wheat_data[['perimeter', 'asymmetry']], wheat_data['label'], test_size=0.5,random_state=1)\n",
    "\n",
    "\n",
    "a=len(out_train)\n",
    "\n",
    "b=len(out_test)\n",
    "\n",
    "c=len(inp_train)\n",
    "\n",
    "d=len(inp_test)\n",
    "\n",
    "print(\"Training Labels size:\", a )\n",
    "\n",
    "print(\"Testing Labels size:\", b )\n",
    "\n",
    "print(\"Training Features size:\", c )\n",
    "\n",
    "print(\"Testing Features size:\",d )\n",
    "    \n",
    "gauss_bayes = GaussianNB()  \n",
    "\n",
    "gauss_bayes.fit(inp_train,  out_train)  \n",
    "\n",
    "out_pred = gauss_bayes.predict(inp_test)   \n",
    "\n",
    "print('Predicted output:')\n",
    "\n",
    "print(out_pred)  \n",
    "\n",
    "print('Confusion matrix:')\n",
    "\n",
    "print(confusion_matrix(out_test, out_pred))\n",
    "\n",
    "print(\"Accuracy of the Gaussian Naive Bayes model constructed:\", metrics.accuracy_score(out_test, \n",
    "out_pred)*100) "
   ]
  },
  {
   "cell_type": "code",
   "execution_count": null,
   "id": "aa2a3589",
   "metadata": {},
   "outputs": [],
   "source": []
  }
 ],
 "metadata": {
  "kernelspec": {
   "display_name": "Python 3 (ipykernel)",
   "language": "python",
   "name": "python3"
  },
  "language_info": {
   "codemirror_mode": {
    "name": "ipython",
    "version": 3
   },
   "file_extension": ".py",
   "mimetype": "text/x-python",
   "name": "python",
   "nbconvert_exporter": "python",
   "pygments_lexer": "ipython3",
   "version": "3.9.12"
  }
 },
 "nbformat": 4,
 "nbformat_minor": 5
}
